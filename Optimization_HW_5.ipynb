{
 "cells": [
  {
   "cell_type": "markdown",
   "metadata": {},
   "source": [
    "## a. $x_{n+1}=x_{n} - 1 + \\dfrac{2}{e^{x_{n}}}$,  $x_{0} = 2$"
   ]
  },
  {
   "cell_type": "code",
   "execution_count": 2,
   "metadata": {},
   "outputs": [],
   "source": [
    "import math\n",
    "import numpy as np"
   ]
  },
  {
   "cell_type": "code",
   "execution_count": 20,
   "metadata": {},
   "outputs": [
    {
     "name": "stdout",
     "output_type": "stream",
     "text": [
      "The error of 1-th iteration is 0.5775233859132801.\n",
      "The error of 2-th iteration is 0.13881012318002328.\n",
      "The error of 3-th iteration is 0.009203403457221593.\n",
      "The error of 4-th iteration is 4.22216905668904e-05.\n",
      "The error of 5-th iteration is 8.913230153950735e-10.\n",
      "The error of 6-th iteration is 0.0.\n",
      "The error of 7-th iteration is 0.0.\n",
      "The error of 8-th iteration is 0.0.\n",
      "The error of 9-th iteration is 0.0.\n"
     ]
    }
   ],
   "source": [
    "x = 2\n",
    "text = \"The error of {}-th iteration is {}.\"\n",
    "for n in range(1,10):\n",
    "    x = x - 1 + 2/math.exp(x)\n",
    "    y = abs(x-math.log(2))\n",
    "    print(text.format(n, y))"
   ]
  },
  {
   "cell_type": "code",
   "execution_count": 21,
   "metadata": {},
   "outputs": [],
   "source": [
    "# this means we have sub-linear"
   ]
  },
  {
   "cell_type": "markdown",
   "metadata": {},
   "source": [
    "## b. $x_{n+1}=x_{n} + 1/5 - \\dfrac{e^{x_{n}}}{10}$,  $x_{0} = 2$"
   ]
  },
  {
   "cell_type": "code",
   "execution_count": 22,
   "metadata": {},
   "outputs": [
    {
     "name": "stdout",
     "output_type": "stream",
     "text": [
      "The error of 1-th iteration is 0.7679472095469898.\n",
      "The error of 2-th iteration is 0.5368797588073383.\n",
      "The error of 3-th iteration is 0.3947475884783215.\n",
      "The error of 4-th iteration is 0.2979456759721658.\n",
      "The error of 5-th iteration is 0.22852795464959363.\n",
      "The error of 6-th iteration is 0.1771782233277588.\n",
      "The error of 7-th iteration is 0.1384094543296025.\n",
      "The error of 8-th iteration is 0.10872031631413515.\n",
      "The error of 9-th iteration is 0.08575021606682454.\n"
     ]
    }
   ],
   "source": [
    "x = 2\n",
    "text = \"The error of {}-th iteration is {}.\"\n",
    "for n in range(1,10):\n",
    "    x = x + 1/5 - math.exp(x)/10\n",
    "    y = abs(x-math.log(2))\n",
    "    print(text.format(n, y))"
   ]
  },
  {
   "cell_type": "code",
   "execution_count": 23,
   "metadata": {},
   "outputs": [],
   "source": [
    "# this means we have superlinear"
   ]
  },
  {
   "cell_type": "markdown",
   "metadata": {},
   "source": [
    "## c. $x_{n+1}=x_{n} - \\dfrac{x_{n}-x_{n-1}}{e^{x_{n}}-e^{x_{n-1}}} * (e^{x_{n}} - 2)$,  $x_{0} = 2$,  $x_{1} = 1$"
   ]
  },
  {
   "cell_type": "code",
   "execution_count": 3,
   "metadata": {},
   "outputs": [
    {
     "name": "stdout",
     "output_type": "stream",
     "text": [
      "The error of 1-th iteration is 0.1530706439664965\n",
      "The error of 2-th iteration is 0.021773367713503244\n",
      "The error of 3-th iteration is 0.0016183393822920555\n",
      "The error of 4-th iteration is 1.7549714095288493e-05\n",
      "The error of 5-th iteration is 1.419682504888442e-08\n",
      "The error of 6-th iteration is 1.2467804566540508e-13\n",
      "The error of 7-th iteration is 1.1102230246251565e-16\n",
      "The error of 8-th iteration is 1.1102230246251565e-16\n",
      "The error of 9-th iteration is nan\n"
     ]
    },
    {
     "name": "stderr",
     "output_type": "stream",
     "text": [
      "<ipython-input-3-3b0590966168>:6: RuntimeWarning: invalid value encountered in double_scalars\n",
      "  x_n=x_1-(((x_1-x_0)/(np.exp(x_1)-np.exp(x_0)))*(np.exp(x_1)-2))\n"
     ]
    }
   ],
   "source": [
    "x_0=2\n",
    "x_1=1\n",
    "x_n=0\n",
    "text = \"The error of {}-th iteration is {}\"\n",
    "for n in range(1,10):\n",
    "    x_n=x_1-(((x_1-x_0)/(np.exp(x_1)-np.exp(x_0)))*(np.exp(x_1)-2))\n",
    "    x_0=x_1\n",
    "    x_1=x_n\n",
    "    y = abs(x_n-math.log(2))\n",
    "    print(text.format(n,y))"
   ]
  },
  {
   "cell_type": "code",
   "execution_count": null,
   "metadata": {},
   "outputs": [],
   "source": [
    "# this means we have quadratic"
   ]
  }
 ],
 "metadata": {
  "kernelspec": {
   "display_name": "Python 3",
   "language": "python",
   "name": "python3"
  },
  "language_info": {
   "codemirror_mode": {
    "name": "ipython",
    "version": 3
   },
   "file_extension": ".py",
   "mimetype": "text/x-python",
   "name": "python",
   "nbconvert_exporter": "python",
   "pygments_lexer": "ipython3",
   "version": "3.8.3"
  }
 },
 "nbformat": 4,
 "nbformat_minor": 4
}
